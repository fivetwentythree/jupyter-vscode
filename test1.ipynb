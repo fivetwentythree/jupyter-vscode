{
 "cells": [
  {
   "cell_type": "markdown",
   "id": "93a3b5c0",
   "metadata": {},
   "source": [
    "Think of it like driving a car:\n",
    "urllib (built-in) is like driving a manual transmission. You have more direct control, but you have to manage the clutch, shift gears, and worry about more details.\n",
    "requests is like driving an automatic. You just press the gas and go. It handles all the complex gear-shifting for you, making the experience vastly simpler and more pleasant for 99% of your trips.\n",
    "\n",
    "Let's Do It: The Core of requests\n",
    "The most common HTTP method by far is GET. You use it every time you type a URL into your browser. It's used to retrieve, or \"get,\" data from a server.\n",
    "Let's make our very first request. We'll ask a test server for some information.\n",
    "First, you'll need to install the library if you haven't already. Open your terminal or command prompt and run:\n",
    "pip install requests\n"
   ]
  },
  {
   "cell_type": "code",
   "execution_count": 5,
   "id": "42789c6b",
   "metadata": {},
   "outputs": [
    {
     "name": "stdout",
     "output_type": "stream",
     "text": [
      "<Response [200]>\n"
     ]
    }
   ],
   "source": [
    "import requests\n",
    "import numpy as np\n",
    "\n",
    "response = requests.get(\"https://api.github.com/events\")\n",
    "print(response)  # this means the response is good its a green light"
   ]
  },
  {
   "cell_type": "code",
   "execution_count": null,
   "id": "5223cbf0",
   "metadata": {},
   "outputs": [
    {
     "name": "stdout",
     "output_type": "stream",
     "text": [
      "status code:200\n",
      "was the ping successfull: True\n",
      "No errrors were raised\n"
     ]
    }
   ],
   "source": [
    "print(f\"status code:{response.status_code}\")\n",
    "# and to check if the ping is successfull\n",
    "print(f\"was the ping successfull: {response.ok}\")\n",
    "try:\n",
    "    response.raise_for_status()\n",
    "    print(\"No errrors were raised\")\n",
    "except requests.exceptions.HTTPError as err:\n",
    "    print(f\"an error as ouccured {err}\")"
   ]
  },
  {
   "cell_type": "code",
   "execution_count": null,
   "id": "0190adcf",
   "metadata": {},
   "outputs": [
    {
     "name": "stdout",
     "output_type": "stream",
     "text": [
      "From URL: https://archive.ics.uci.edu/ml/machine-learning-databases/iris/iris.data\n"
     ]
    },
    {
     "data": {
      "text/html": [
       "<div>\n",
       "<style scoped>\n",
       "    .dataframe tbody tr th:only-of-type {\n",
       "        vertical-align: middle;\n",
       "    }\n",
       "\n",
       "    .dataframe tbody tr th {\n",
       "        vertical-align: top;\n",
       "    }\n",
       "\n",
       "    .dataframe thead th {\n",
       "        text-align: right;\n",
       "    }\n",
       "</style>\n",
       "<table border=\"1\" class=\"dataframe\">\n",
       "  <thead>\n",
       "    <tr style=\"text-align: right;\">\n",
       "      <th></th>\n",
       "      <th>0</th>\n",
       "      <th>1</th>\n",
       "      <th>2</th>\n",
       "      <th>3</th>\n",
       "      <th>4</th>\n",
       "    </tr>\n",
       "  </thead>\n",
       "  <tbody>\n",
       "    <tr>\n",
       "      <th>145</th>\n",
       "      <td>6.7</td>\n",
       "      <td>3.0</td>\n",
       "      <td>5.2</td>\n",
       "      <td>2.3</td>\n",
       "      <td>Iris-virginica</td>\n",
       "    </tr>\n",
       "    <tr>\n",
       "      <th>146</th>\n",
       "      <td>6.3</td>\n",
       "      <td>2.5</td>\n",
       "      <td>5.0</td>\n",
       "      <td>1.9</td>\n",
       "      <td>Iris-virginica</td>\n",
       "    </tr>\n",
       "    <tr>\n",
       "      <th>147</th>\n",
       "      <td>6.5</td>\n",
       "      <td>3.0</td>\n",
       "      <td>5.2</td>\n",
       "      <td>2.0</td>\n",
       "      <td>Iris-virginica</td>\n",
       "    </tr>\n",
       "    <tr>\n",
       "      <th>148</th>\n",
       "      <td>6.2</td>\n",
       "      <td>3.4</td>\n",
       "      <td>5.4</td>\n",
       "      <td>2.3</td>\n",
       "      <td>Iris-virginica</td>\n",
       "    </tr>\n",
       "    <tr>\n",
       "      <th>149</th>\n",
       "      <td>5.9</td>\n",
       "      <td>3.0</td>\n",
       "      <td>5.1</td>\n",
       "      <td>1.8</td>\n",
       "      <td>Iris-virginica</td>\n",
       "    </tr>\n",
       "  </tbody>\n",
       "</table>\n",
       "</div>"
      ],
      "text/plain": [
       "       0    1    2    3               4\n",
       "145  6.7  3.0  5.2  2.3  Iris-virginica\n",
       "146  6.3  2.5  5.0  1.9  Iris-virginica\n",
       "147  6.5  3.0  5.2  2.0  Iris-virginica\n",
       "148  6.2  3.4  5.4  2.3  Iris-virginica\n",
       "149  5.9  3.0  5.1  1.8  Iris-virginica"
      ]
     },
     "execution_count": 4,
     "metadata": {},
     "output_type": "execute_result"
    }
   ],
   "source": [
    "import os\n",
    "import pandas as pd\n",
    "\n",
    "try:\n",
    "    s = \"https://archive.ics.uci.edu/ml/machine-learning-databases/iris/iris.data\"\n",
    "    print(f\"From URL: {s}\")\n",
    "    df = pd.read_csv(s, header=None, encoding=\"utf-8\")\n",
    "except HTTPError:\n",
    "    s = \"iris.data\"\n",
    "    print(f\"From local iris path:{s}\")\n",
    "    df = pd.read_csv(s, header=None, encoding=\"ut-8\")\n",
    "\n",
    "df.tail()\n"
   ]
  },
  {
   "cell_type": "code",
   "execution_count": null,
   "id": "9b64f640",
   "metadata": {},
   "outputs": [
    {
     "name": "stdout",
     "output_type": "stream",
     "text": [
      "[0.   0.25 0.5  0.75 1.  ] (5,)\n"
     ]
    }
   ],
   "source": [
    "array1 = np.linspace(\n",
    "    0, 1, 5\n",
    ")  # creates evenly spaced numbers between 0 and 1, so here there are 5 numbers\n",
    "print(array1, array1.shape)"
   ]
  },
  {
   "cell_type": "markdown",
   "id": "3c98d05f",
   "metadata": {},
   "source": [
    "what are the methods which can be used with numpy varbales\n",
    "1. size - the size of the array \n",
    "2. ndim - number of dimensions like 2d matrix or 3d tensor\n",
    "3. dtype - int64 or float 32\n",
    "4. shape - (2,3) - the shape of this array is 2 rows and 3 columns"
   ]
  },
  {
   "cell_type": "markdown",
   "id": "bb45f44d",
   "metadata": {},
   "source": [
    "### these can be seen as the most fundamental methods of numpy"
   ]
  },
  {
   "cell_type": "code",
   "execution_count": null,
   "id": "553785bf",
   "metadata": {},
   "outputs": [
    {
     "name": "stdout",
     "output_type": "stream",
     "text": [
      "[ 0  1  2  3  4  5  6  7  8  9 10 11]\n",
      "[[ 0  1  2  3]\n",
      " [ 4  5  6  7]\n",
      " [ 8  9 10 11]]\n",
      "[ 0  1  2  3  4  5  6  7  8  9 10 11]\n"
     ]
    }
   ],
   "source": [
    "original = np.arange(12)  # liear list\n",
    "reshaped = original.reshape(3, 4)  # linear list made into 2D array of shape 3 by 4\n",
    "flatten = reshaped.flatten()  # make the 2D array once again to 1D\n",
    "\n",
    "print(original)\n",
    "print(reshaped)\n",
    "print(flatten)"
   ]
  },
  {
   "cell_type": "markdown",
   "id": "4b538e51",
   "metadata": {},
   "source": [
    "### how to select or slice arrays"
   ]
  },
  {
   "cell_type": "code",
   "execution_count": null,
   "id": "0a1ea4b2",
   "metadata": {},
   "outputs": [
    {
     "data": {
      "text/plain": [
       "array([[1, 0, 0],\n",
       "       [0, 2, 0],\n",
       "       [0, 0, 3]])"
      ]
     },
     "execution_count": 19,
     "metadata": {},
     "output_type": "execute_result"
    }
   ],
   "source": [
    "# select an element from an array\n",
    "element1 = reshaped[\n",
    "    1, 2\n",
    "]  # this will give the one in 1 row and 2nd column so this has to give us 6\n",
    "# the main benefit of vectorization is you can do elementwise manipualtions fairly computationaly efficient way, that is without for loops\n",
    "# what is an identity matrix\n",
    "identity = np.eye(3)\n",
    "identity\n",
    "# then what is a diagonal matrix\n",
    "diag = np.diag([1, 2, 3])\n",
    "diag"
   ]
  },
  {
   "cell_type": "markdown",
   "id": "a2ae32ff",
   "metadata": {},
   "source": [
    "radome seeds are for testing out(to make the outcomes determinstic so we can reproduce the results to test hypothesis  "
   ]
  },
  {
   "cell_type": "code",
   "execution_count": null,
   "id": "32c7bfa8",
   "metadata": {},
   "outputs": [
    {
     "data": {
      "text/plain": [
       "array([[0.51729788, 0.9469626 , 0.76545976],\n",
       "       [0.28239584, 0.22104536, 0.68622209],\n",
       "       [0.1671392 , 0.39244247, 0.61805235]])"
      ]
     },
     "execution_count": 24,
     "metadata": {},
     "output_type": "execute_result"
    }
   ],
   "source": [
    "import random\n",
    "\n",
    "np.random.seed(23)\n",
    "uniform = np.random.random((3, 3))\n",
    "uniform"
   ]
  },
  {
   "cell_type": "code",
   "execution_count": null,
   "id": "211c0614",
   "metadata": {},
   "outputs": [
    {
     "data": {
      "text/plain": [
       "array([[3, 6, 8],\n",
       "       [9, 6, 8],\n",
       "       [7, 9, 3],\n",
       "       [6, 1, 2]])"
      ]
     },
     "execution_count": 34,
     "metadata": {},
     "output_type": "execute_result"
    }
   ],
   "source": [
    "normal = np.random.randn(3, 3)\n",
    "normal\n",
    "np.random.seed(23)\n",
    "normal_int = np.random.randint(0, 10, size=(4, 3))\n",
    "normal_int"
   ]
  },
  {
   "cell_type": "code",
   "execution_count": null,
   "id": "7054573c",
   "metadata": {},
   "outputs": [],
   "source": []
  },
  {
   "cell_type": "code",
   "execution_count": null,
   "id": "566438cc",
   "metadata": {},
   "outputs": [],
   "source": []
  }
 ],
 "metadata": {
  "kernelspec": {
   "display_name": "jupyter-vscode",
   "language": "python",
   "name": "python3"
  },
  "language_info": {
   "codemirror_mode": {
    "name": "ipython",
    "version": 3
   },
   "file_extension": ".py",
   "mimetype": "text/x-python",
   "name": "python",
   "nbconvert_exporter": "python",
   "pygments_lexer": "ipython3",
   "version": "3.12.8"
  }
 },
 "nbformat": 4,
 "nbformat_minor": 5
}
