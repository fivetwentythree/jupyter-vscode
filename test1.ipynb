{
 "cells": [
  {
   "cell_type": "markdown",
   "id": "93a3b5c0",
   "metadata": {},
   "source": [
    "Think of it like driving a car:\n",
    "urllib (built-in) is like driving a manual transmission. You have more direct control, but you have to manage the clutch, shift gears, and worry about more details.\n",
    "requests is like driving an automatic. You just press the gas and go. It handles all the complex gear-shifting for you, making the experience vastly simpler and more pleasant for 99% of your trips.\n",
    "\n",
    "Let's Do It: The Core of requests\n",
    "The most common HTTP method by far is GET. You use it every time you type a URL into your browser. It's used to retrieve, or \"get,\" data from a server.\n",
    "Let's make our very first request. We'll ask a test server for some information.\n",
    "First, you'll need to install the library if you haven't already. Open your terminal or command prompt and run:\n",
    "pip install requests\n"
   ]
  },
  {
   "cell_type": "code",
   "execution_count": 2,
   "id": "42789c6b",
   "metadata": {},
   "outputs": [
    {
     "name": "stdout",
     "output_type": "stream",
     "text": [
      "<Response [200]>\n"
     ]
    }
   ],
   "source": [
    "import requests\n",
    "\n",
    "response = requests.get(\"https://api.github.com/events\")\n",
    "print(response)  # this means the response is good its a green light"
   ]
  },
  {
   "cell_type": "code",
   "execution_count": null,
   "id": "5223cbf0",
   "metadata": {},
   "outputs": [
    {
     "name": "stdout",
     "output_type": "stream",
     "text": [
      "status code:200\n",
      "was the ping successfull: True\n",
      "No errrors were raised\n"
     ]
    }
   ],
   "source": [
    "print(f\"status code:{response.status_code}\")\n",
    "# and to check if the ping is successfull\n",
    "print(f\"was the ping successfull: {response.ok}\")\n",
    "try:\n",
    "    response.raise_for_status()\n",
    "    print(\"No errrors were raised\")\n",
    "except requests.exceptions.HTTPError as err:\n",
    "    print(f\"an error as ouccured {err}\")"
   ]
  },
  {
   "cell_type": "code",
   "execution_count": null,
   "id": "097e0e4e",
   "metadata": {},
   "outputs": [],
   "source": []
  }
 ],
 "metadata": {
  "kernelspec": {
   "display_name": "jupyter-vscode",
   "language": "python",
   "name": "python3"
  },
  "language_info": {
   "codemirror_mode": {
    "name": "ipython",
    "version": 3
   },
   "file_extension": ".py",
   "mimetype": "text/x-python",
   "name": "python",
   "nbconvert_exporter": "python",
   "pygments_lexer": "ipython3",
   "version": "3.12.8"
  }
 },
 "nbformat": 4,
 "nbformat_minor": 5
}
